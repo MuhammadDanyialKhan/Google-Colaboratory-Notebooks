{
  "nbformat": 4,
  "nbformat_minor": 0,
  "metadata": {
    "kernelspec": {
      "name": "python3",
      "display_name": "Python 3"
    },
    "language_info": {
      "codemirror_mode": {
        "name": "ipython",
        "version": 3
      },
      "file_extension": ".py",
      "mimetype": "text/x-python",
      "name": "python",
      "nbconvert_exporter": "python",
      "pygments_lexer": "ipython3",
      "version": "3.6.4"
    },
    "colab": {
      "name": "Character_Level_RNN.ipynb",
      "provenance": [],
      "include_colab_link": true
    },
    "accelerator": "GPU"
  },
  "cells": [
    {
      "cell_type": "markdown",
      "metadata": {
        "id": "view-in-github",
        "colab_type": "text"
      },
      "source": [
        "<a href=\"https://colab.research.google.com/github/MuhammadDanyialKhan/Google-Colaboratory-Notebooks/blob/master/pytorch/Character_Level_RNN.ipynb\" target=\"_parent\"><img src=\"https://colab.research.google.com/assets/colab-badge.svg\" alt=\"Open In Colab\"/></a>"
      ]
    },
    {
      "cell_type": "markdown",
      "metadata": {
        "id": "b5cE7KKebX75",
        "colab_type": "text"
      },
      "source": [
        "# Character-Level LSTM in PyTorch\n",
        "\n",
        "In this notebook, I'll construct a character-level LSTM with PyTorch. The network will train character by character on some text, then generate new text character by character. As an example, I will train on Anna Karenina. **This model will be able to generate new text based on the text from the book!**\n",
        "\n",
        "This network is based off of Andrej Karpathy's [post on RNNs](http://karpathy.github.io/2015/05/21/rnn-effectiveness/) and [implementation in Torch](https://github.com/karpathy/char-rnn). Below is the general architecture of the character-wise RNN.\n",
        "\n",
        "![alt text](https://drive.google.com/uc?id=1MuNFrEB1DIcOxvWRpmGk8j4AHM_j3msB)"
      ]
    },
    {
      "cell_type": "markdown",
      "metadata": {
        "id": "ZVFWT0_AbX78",
        "colab_type": "text"
      },
      "source": [
        "First let's load in our required resources for data loading and model creation."
      ]
    },
    {
      "cell_type": "code",
      "metadata": {
        "id": "KfWcOHIebX7-",
        "colab_type": "code",
        "colab": {}
      },
      "source": [
        "import numpy as np\n",
        "import torch\n",
        "from torch import nn\n",
        "import torch.nn.functional as F"
      ],
      "execution_count": 0,
      "outputs": []
    },
    {
      "cell_type": "markdown",
      "metadata": {
        "id": "3KD-PxFjbX8D",
        "colab_type": "text"
      },
      "source": [
        "## Load in Data\n",
        "\n",
        "Then, we'll load the Anna Karenina text file and convert it into integers for our network to use. "
      ]
    },
    {
      "cell_type": "code",
      "metadata": {
        "id": "hBaTLpfCbX8E",
        "colab_type": "code",
        "colab": {}
      },
      "source": [
        "# open text file and read in data as `text`\n",
        "with open('anna.txt', 'r') as f:\n",
        "    text = f.read()"
      ],
      "execution_count": 0,
      "outputs": []
    },
    {
      "cell_type": "markdown",
      "metadata": {
        "id": "eQR89du3bX8I",
        "colab_type": "text"
      },
      "source": [
        "Let's check out the first 100 characters, make sure everything is peachy. According to the [American Book Review](http://americanbookreview.org/100bestlines.asp), this is the 6th best first line of a book ever."
      ]
    },
    {
      "cell_type": "code",
      "metadata": {
        "id": "L22miYdUbX8J",
        "colab_type": "code",
        "outputId": "7d732f4e-2866-4ea8-ff9e-31a10ce7c3a0",
        "colab": {
          "base_uri": "https://localhost:8080/",
          "height": 34
        }
      },
      "source": [
        "text[:100]"
      ],
      "execution_count": 21,
      "outputs": [
        {
          "output_type": "execute_result",
          "data": {
            "text/plain": [
              "'Chapter 1\\n\\n\\nHappy families are all alike; every unhappy family is unhappy in its own\\nway.\\n\\nEverythin'"
            ]
          },
          "metadata": {
            "tags": []
          },
          "execution_count": 21
        }
      ]
    },
    {
      "cell_type": "markdown",
      "metadata": {
        "id": "j66XD2LFbX8N",
        "colab_type": "text"
      },
      "source": [
        "### Tokenization\n",
        "\n",
        "In the cells, below, I'm creating a couple **dictionaries** to convert the characters to and from integers. Encoding the characters as integers makes it easier to use as input in the network."
      ]
    },
    {
      "cell_type": "code",
      "metadata": {
        "id": "f0K7__0jbX8O",
        "colab_type": "code",
        "colab": {}
      },
      "source": [
        "# encode the text and map each character to an integer and vice versa\n",
        "\n",
        "# we create two dictionaries:\n",
        "# 1. int2char, which maps integers to characters\n",
        "# 2. char2int, which maps characters to unique integers\n",
        "chars = tuple(set(text))\n",
        "int2char = dict(enumerate(chars))\n",
        "char2int = {ch: ii for ii, ch in int2char.items()}\n",
        "\n",
        "# encode the text\n",
        "encoded = np.array([char2int[ch] for ch in text])"
      ],
      "execution_count": 0,
      "outputs": []
    },
    {
      "cell_type": "markdown",
      "metadata": {
        "id": "g7uO93XGbX8R",
        "colab_type": "text"
      },
      "source": [
        "And we can see those same characters from above, encoded as integers."
      ]
    },
    {
      "cell_type": "code",
      "metadata": {
        "id": "YaUc2KvXbX8T",
        "colab_type": "code",
        "outputId": "dad507b0-3c83-4ffb-a837-a5150bb3d856",
        "colab": {
          "base_uri": "https://localhost:8080/",
          "height": 118
        }
      },
      "source": [
        "encoded[:100]"
      ],
      "execution_count": 23,
      "outputs": [
        {
          "output_type": "execute_result",
          "data": {
            "text/plain": [
              "array([27, 19, 13, 58, 22, 57, 72, 34, 32, 74, 74, 74, 70, 13, 58, 58, 10,\n",
              "       34,  5, 13, 53, 31, 11, 31, 57, 55, 34, 13, 72, 57, 34, 13, 11, 11,\n",
              "       34, 13, 11, 31, 12, 57, 79, 34, 57, 33, 57, 72, 10, 34, 14,  3, 19,\n",
              "       13, 58, 58, 10, 34,  5, 13, 53, 31, 11, 10, 34, 31, 55, 34, 14,  3,\n",
              "       19, 13, 58, 58, 10, 34, 31,  3, 34, 31, 22, 55, 34, 78, 41,  3, 74,\n",
              "       41, 13, 10,  1, 74, 74, 20, 33, 57, 72, 10, 22, 19, 31,  3])"
            ]
          },
          "metadata": {
            "tags": []
          },
          "execution_count": 23
        }
      ]
    },
    {
      "cell_type": "markdown",
      "metadata": {
        "id": "Gld5DgdObX8W",
        "colab_type": "text"
      },
      "source": [
        "## Pre-processing the data\n",
        "\n",
        "As you can see in our char-RNN image above, our LSTM expects an input that is **one-hot encoded** meaning that each character is converted into an integer (via our created dictionary) and *then* converted into a column vector where only it's corresponding integer index will have the value of 1 and the rest of the vector will be filled with 0's. Since we're one-hot encoding the data, let's make a function to do that!\n"
      ]
    },
    {
      "cell_type": "code",
      "metadata": {
        "id": "-kvT9VLEbX8W",
        "colab_type": "code",
        "colab": {}
      },
      "source": [
        "def one_hot_encode(arr, n_labels):\n",
        "    \n",
        "    # Initialize the the encoded array\n",
        "    one_hot = np.zeros((arr.size, n_labels), dtype=np.float32)\n",
        "    \n",
        "    # Fill the appropriate elements with ones\n",
        "    one_hot[np.arange(one_hot.shape[0]), arr.flatten()] = 1.\n",
        "    \n",
        "    # Finally reshape it to get back to the original array\n",
        "    one_hot = one_hot.reshape((*arr.shape, n_labels))\n",
        "    \n",
        "    return one_hot"
      ],
      "execution_count": 0,
      "outputs": []
    },
    {
      "cell_type": "code",
      "metadata": {
        "id": "_w-kG6-JbX8a",
        "colab_type": "code",
        "outputId": "f453a7fd-cc2d-453b-8226-858596256be1",
        "colab": {
          "base_uri": "https://localhost:8080/",
          "height": 67
        }
      },
      "source": [
        "# check that the function works as expected\n",
        "test_seq = np.array([[3, 5, 1]])\n",
        "one_hot = one_hot_encode(test_seq, 8)\n",
        "\n",
        "print(one_hot)"
      ],
      "execution_count": 25,
      "outputs": [
        {
          "output_type": "stream",
          "text": [
            "[[[0. 0. 0. 1. 0. 0. 0. 0.]\n",
            "  [0. 0. 0. 0. 0. 1. 0. 0.]\n",
            "  [0. 1. 0. 0. 0. 0. 0. 0.]]]\n"
          ],
          "name": "stdout"
        }
      ]
    },
    {
      "cell_type": "markdown",
      "metadata": {
        "id": "-mIgzjMkbX8d",
        "colab_type": "text"
      },
      "source": [
        "## Making training mini-batches\n",
        "\n",
        "\n",
        "To train on this data, we also want to create mini-batches for training. Remember that we want our batches to be multiple sequences of some desired number of sequence steps. Considering a simple example, our batches would look like this:\n",
        "\n",
        "![alt text](https://drive.google.com/uc?id=1DAW0mlccx58tALXHow2k7x45i6gMA1nm)\n",
        "\n",
        "\n",
        "<br>\n",
        "\n",
        "In this example, we'll take the encoded characters (passed in as the `arr` parameter) and split them into multiple sequences, given by `batch_size`. Each of our sequences will be `seq_length` long.\n",
        "\n",
        "### Creating Batches\n",
        "\n",
        "**1. The first thing we need to do is discard some of the text so we only have completely full mini-batches. **\n",
        "\n",
        "Each batch contains $N \\times M$ characters, where $N$ is the batch size (the number of sequences in a batch) and $M$ is the seq_length or number of time steps in a sequence. Then, to get the total number of batches, $K$, that we can make from the array `arr`, you divide the length of `arr` by the number of characters per batch. Once you know the number of batches, you can get the total number of characters to keep from `arr`, $N * M * K$.\n",
        "\n",
        "**2. After that, we need to split `arr` into $N$ batches. ** \n",
        "\n",
        "You can do this using `arr.reshape(size)` where `size` is a tuple containing the dimensions sizes of the reshaped array. We know we want $N$ sequences in a batch, so let's make that the size of the first dimension. For the second dimension, you can use `-1` as a placeholder in the size, it'll fill up the array with the appropriate data for you. After this, you should have an array that is $N \\times (M * K)$.\n",
        "\n",
        "**3. Now that we have this array, we can iterate through it to get our mini-batches. **\n",
        "\n",
        "The idea is each batch is a $N \\times M$ window on the $N \\times (M * K)$ array. For each subsequent batch, the window moves over by `seq_length`. We also want to create both the input and target arrays. Remember that the targets are just the inputs shifted over by one character. The way I like to do this window is use `range` to take steps of size `n_steps` from $0$ to `arr.shape[1]`, the total number of tokens in each sequence. That way, the integers you get from `range` always point to the start of a batch, and each window is `seq_length` wide.\n",
        "\n",
        "> **TODO:** Write the code for creating batches in the function below. The exercises in this notebook _will not be easy_. I've provided a notebook with solutions alongside this notebook. If you get stuck, checkout the solutions. The most important thing is that you don't copy and paste the code into here, **type out the solution code yourself.**"
      ]
    },
    {
      "cell_type": "code",
      "metadata": {
        "id": "gnGmTEJZbX8e",
        "colab_type": "code",
        "colab": {}
      },
      "source": [
        "def get_batches(arr, batch_size, seq_length):\n",
        "    '''Create a generator that returns batches of size\n",
        "       batch_size x seq_length from arr.\n",
        "       \n",
        "       Arguments\n",
        "       ---------\n",
        "       arr: Array you want to make batches from\n",
        "       batch_size: Batch size, the number of sequences per batch\n",
        "       seq_length: Number of encoded chars in a sequence\n",
        "    '''\n",
        "    \n",
        "    batch_size_total = batch_size * seq_length\n",
        "    ## TODO: Get the number of batches we can make\n",
        "    n_batches = len(arr) // batch_size_total\n",
        "    \n",
        "    ## TODO: Keep only enough characters to make full batches\n",
        "    arr =  arr[:n_batches * batch_size_total]\n",
        "    \n",
        "    ## TODO: Reshape into batch_size rows\n",
        "    arr = arr.reshape((batch_size, -1))\n",
        "    \n",
        "    ## TODO: Iterate over the batches using a window of size seq_length\n",
        "    for n in range(0, arr.shape[1], seq_length):\n",
        "        # The features\n",
        "        x = arr[:, n:n+seq_length]\n",
        "        # The targets, shifted by one\n",
        "        y = np.zeros_like(x)\n",
        "        try:\n",
        "          y[:, :-1], y[:, -1] = x[:, 1:], arr[:, n+seq_length]\n",
        "        except IndexError:\n",
        "          y[:, :-1], y[:, -1] = x[:, 1:], arr[:, 0]\n",
        "        yield x, y"
      ],
      "execution_count": 0,
      "outputs": []
    },
    {
      "cell_type": "markdown",
      "metadata": {
        "id": "tQxEZYk_bX8g",
        "colab_type": "text"
      },
      "source": [
        "### Test Your Implementation\n",
        "\n",
        "Now I'll make some data sets and we can check out what's going on as we batch data. Here, as an example, I'm going to use a batch size of 8 and 50 sequence steps."
      ]
    },
    {
      "cell_type": "code",
      "metadata": {
        "id": "5dPZ8y9kbX8h",
        "colab_type": "code",
        "colab": {}
      },
      "source": [
        "batches = get_batches(encoded, 8, 50)\n",
        "x, y = next(batches)"
      ],
      "execution_count": 0,
      "outputs": []
    },
    {
      "cell_type": "code",
      "metadata": {
        "id": "pc1C70GtbX8k",
        "colab_type": "code",
        "outputId": "318dd3c0-d681-4e35-f267-3e5c0835d7a8",
        "colab": {
          "base_uri": "https://localhost:8080/",
          "height": 336
        }
      },
      "source": [
        "# printing out the first 10 items in a sequence\n",
        "print('x\\n', x[:10, :10])\n",
        "print('\\ny\\n', y[:10, :10])"
      ],
      "execution_count": 28,
      "outputs": [
        {
          "output_type": "stream",
          "text": [
            "x\n",
            " [[27 19 13 58 22 57 72 34 32 74]\n",
            " [55 78  3 34 22 19 13 22 34 13]\n",
            " [57  3 71 34 78 72 34 13 34  5]\n",
            " [55 34 22 19 57 34 75 19 31 57]\n",
            " [34 55 13 41 34 19 57 72 34 22]\n",
            " [75 14 55 55 31 78  3 34 13  3]\n",
            " [34 26  3  3 13 34 19 13 71 34]\n",
            " [80 42 11 78  3 55 12 10  1 34]]\n",
            "\n",
            "y\n",
            " [[19 13 58 22 57 72 34 32 74 74]\n",
            " [78  3 34 22 19 13 22 34 13 22]\n",
            " [ 3 71 34 78 72 34 13 34  5 78]\n",
            " [34 22 19 57 34 75 19 31 57  5]\n",
            " [55 13 41 34 19 57 72 34 22 57]\n",
            " [14 55 55 31 78  3 34 13  3 71]\n",
            " [26  3  3 13 34 19 13 71 34 55]\n",
            " [42 11 78  3 55 12 10  1 34 68]]\n"
          ],
          "name": "stdout"
        }
      ]
    },
    {
      "cell_type": "markdown",
      "metadata": {
        "id": "Wy0N0oeibX8n",
        "colab_type": "text"
      },
      "source": [
        "If you implemented `get_batches` correctly, the above output should look something like \n",
        "```\n",
        "x\n",
        " [[25  8 60 11 45 27 28 73  1  2]\n",
        " [17  7 20 73 45  8 60 45 73 60]\n",
        " [27 20 80 73  7 28 73 60 73 65]\n",
        " [17 73 45  8 27 73 66  8 46 27]\n",
        " [73 17 60 12 73  8 27 28 73 45]\n",
        " [66 64 17 17 46  7 20 73 60 20]\n",
        " [73 76 20 20 60 73  8 60 80 73]\n",
        " [47 35 43  7 20 17 24 50 37 73]]\n",
        "\n",
        "y\n",
        " [[ 8 60 11 45 27 28 73  1  2  2]\n",
        " [ 7 20 73 45  8 60 45 73 60 45]\n",
        " [20 80 73  7 28 73 60 73 65  7]\n",
        " [73 45  8 27 73 66  8 46 27 65]\n",
        " [17 60 12 73  8 27 28 73 45 27]\n",
        " [64 17 17 46  7 20 73 60 20 80]\n",
        " [76 20 20 60 73  8 60 80 73 17]\n",
        " [35 43  7 20 17 24 50 37 73 36]]\n",
        " ```\n",
        " although the exact numbers may be different. Check to make sure the data is shifted over one step for `y`."
      ]
    },
    {
      "cell_type": "markdown",
      "metadata": {
        "id": "-cmhFqkmbX8o",
        "colab_type": "text"
      },
      "source": [
        "---\n",
        "## Defining the network with PyTorch\n",
        "\n",
        "Below is where you'll define the network.\n",
        "\n",
        "![alt text](https://drive.google.com/uc?id=1xti2_2SHM6SbNy63UgU45qjsF7NaPbH2)\n",
        "\n",
        "Next, you'll use PyTorch to define the architecture of the network. We start by defining the layers and operations we want. Then, define a method for the forward pass. You've also been given a method for predicting characters."
      ]
    },
    {
      "cell_type": "markdown",
      "metadata": {
        "id": "yG8qgQ8ebX8p",
        "colab_type": "text"
      },
      "source": [
        "### Model Structure\n",
        "\n",
        "In `__init__` the suggested structure is as follows:\n",
        "* Create and store the necessary dictionaries (this has been done for you)\n",
        "* Define an LSTM layer that takes as params: an input size (the number of characters), a hidden layer size `n_hidden`, a number of layers `n_layers`, a dropout probability `drop_prob`, and a batch_first boolean (True, since we are batching)\n",
        "* Define a dropout layer with `drop_prob`\n",
        "* Define a fully-connected layer with params: input size `n_hidden` and output size (the number of characters)\n",
        "* Finally, initialize the weights (again, this has been given)\n",
        "\n",
        "Note that some parameters have been named and given in the `__init__` function, and we use them and store them by doing something like `self.drop_prob = drop_prob`."
      ]
    },
    {
      "cell_type": "markdown",
      "metadata": {
        "id": "P9QgBpZ7bX8q",
        "colab_type": "text"
      },
      "source": [
        "---\n",
        "### LSTM Inputs/Outputs\n",
        "\n",
        "You can create a basic [LSTM layer](https://pytorch.org/docs/stable/nn.html#lstm) as follows\n",
        "\n",
        "```python\n",
        "self.lstm = nn.LSTM(input_size, n_hidden, n_layers, \n",
        "                            dropout=drop_prob, batch_first=True)\n",
        "```\n",
        "\n",
        "where `input_size` is the number of characters this cell expects to see as sequential input, and `n_hidden` is the number of units in the hidden layers in the cell. And we can add dropout by adding a dropout parameter with a specified probability; this will automatically add dropout to the inputs or outputs. Finally, in the `forward` function, we can stack up the LSTM cells into layers using `.view`. With this, you pass in a list of cells and it will send the output of one cell into the next cell.\n",
        "\n",
        "We also need to create an initial hidden state of all zeros. This is done like so\n",
        "\n",
        "```python\n",
        "self.init_hidden()\n",
        "```"
      ]
    },
    {
      "cell_type": "code",
      "metadata": {
        "id": "6K9sSKOAbX8q",
        "colab_type": "code",
        "colab": {
          "base_uri": "https://localhost:8080/",
          "height": 34
        },
        "outputId": "7fda7821-83dd-4b67-efdf-c14d5d3cb3e3"
      },
      "source": [
        "# check if GPU is available\n",
        "train_on_gpu = torch.cuda.is_available()\n",
        "if(train_on_gpu):\n",
        "    print('Training on GPU!')\n",
        "else: \n",
        "    print('No GPU available, training on CPU; consider making n_epochs very small.')"
      ],
      "execution_count": 43,
      "outputs": [
        {
          "output_type": "stream",
          "text": [
            "Training on GPU!\n"
          ],
          "name": "stdout"
        }
      ]
    },
    {
      "cell_type": "code",
      "metadata": {
        "id": "i69EdRwObX8v",
        "colab_type": "code",
        "colab": {}
      },
      "source": [
        "class CharRNN(nn.Module):\n",
        "    \n",
        "    def __init__(self, tokens, n_hidden=256, n_layers=2,\n",
        "                               drop_prob=0.5, lr=0.001):\n",
        "        super().__init__()\n",
        "        self.drop_prob = drop_prob\n",
        "        self.n_layers = n_layers\n",
        "        self.n_hidden = n_hidden\n",
        "        self.lr = lr\n",
        "        \n",
        "        # creating character dictionaries\n",
        "        self.chars = tokens\n",
        "        self.int2char = dict(enumerate(self.chars))\n",
        "        self.char2int = {ch: ii for ii, ch in self.int2char.items()}\n",
        "        \n",
        "        ## TODO: define the LSTM\n",
        "        self.lstm = nn.LSTM(len(self.chars), n_hidden, n_layers, \n",
        "                            dropout=drop_prob, batch_first=True)\n",
        "        \n",
        "        ## TODO: define a dropout layer\n",
        "        self.dropout = nn.Dropout(drop_prob)\n",
        "        \n",
        "        ## TODO: define the final, fully-connected output layer\n",
        "        self.fc = nn.Linear(n_hidden, len(self.chars))\n",
        "      \n",
        "    \n",
        "    def forward(self, x, hidden):\n",
        "        ''' Forward pass through the network. \n",
        "            These inputs are x, and the hidden/cell state `hidden`. '''\n",
        "                \n",
        "        ## TODO: Get the outputs and the new hidden state from the lstm\n",
        "        r_output, hidden = self.lstm(x, hidden)\n",
        "        \n",
        "        ## TODO: pass through a dropout layer\n",
        "        out = self.dropout(r_output)\n",
        "        \n",
        "        # Stack up LSTM outputs using view\n",
        "        # you may need to use contiguous to reshape the output\n",
        "        out = out.contiguous().view(-1, self.n_hidden)\n",
        "        \n",
        "        ## TODO: put x through the fully-connected layer\n",
        "        out = self.fc(out)\n",
        "        \n",
        "        # return the final output and the hidden state\n",
        "        return out, hidden\n",
        "    \n",
        "    \n",
        "    def init_hidden(self, batch_size):\n",
        "        ''' Initializes hidden state '''\n",
        "        # Create two new tensors with sizes n_layers x batch_size x n_hidden,\n",
        "        # initialized to zero, for hidden state and cell state of LSTM\n",
        "        weight = next(self.parameters()).data\n",
        "        \n",
        "        if (train_on_gpu):\n",
        "            hidden = (weight.new(self.n_layers, batch_size, self.n_hidden).zero_().cuda(),\n",
        "                  weight.new(self.n_layers, batch_size, self.n_hidden).zero_().cuda())\n",
        "        else:\n",
        "            hidden = (weight.new(self.n_layers, batch_size, self.n_hidden).zero_(),\n",
        "                      weight.new(self.n_layers, batch_size, self.n_hidden).zero_())\n",
        "        \n",
        "        return hidden\n",
        "        "
      ],
      "execution_count": 0,
      "outputs": []
    },
    {
      "cell_type": "markdown",
      "metadata": {
        "id": "h-Lb35JWbX8y",
        "colab_type": "text"
      },
      "source": [
        "## Time to train\n",
        "\n",
        "The train function gives us the ability to set the number of epochs, the learning rate, and other parameters.\n",
        "\n",
        "Below we're using an Adam optimizer and cross entropy loss since we are looking at character class scores as output. We calculate the loss and perform backpropagation, as usual!\n",
        "\n",
        "A couple of details about training: \n",
        ">* Within the batch loop, we detach the hidden state from its history; this time setting it equal to a new *tuple* variable because an LSTM has a hidden state that is a tuple of the hidden and cell states.\n",
        "* We use [`clip_grad_norm_`](https://pytorch.org/docs/stable/_modules/torch/nn/utils/clip_grad.html) to help prevent exploding gradients."
      ]
    },
    {
      "cell_type": "code",
      "metadata": {
        "id": "ISP2jdPYbX8y",
        "colab_type": "code",
        "colab": {}
      },
      "source": [
        "def train(net, data, epochs=10, batch_size=10, seq_length=50, lr=0.001, clip=5, val_frac=0.1, print_every=10):\n",
        "    ''' Training a network \n",
        "    \n",
        "        Arguments\n",
        "        ---------\n",
        "        \n",
        "        net: CharRNN network\n",
        "        data: text data to train the network\n",
        "        epochs: Number of epochs to train\n",
        "        batch_size: Number of mini-sequences per mini-batch, aka batch size\n",
        "        seq_length: Number of character steps per mini-batch\n",
        "        lr: learning rate\n",
        "        clip: gradient clipping\n",
        "        val_frac: Fraction of data to hold out for validation\n",
        "        print_every: Number of steps for printing training and validation loss\n",
        "    \n",
        "    '''\n",
        "    net.train()\n",
        "    \n",
        "    opt = torch.optim.Adam(net.parameters(), lr=lr)\n",
        "    criterion = nn.CrossEntropyLoss()\n",
        "    \n",
        "    # create training and validation data\n",
        "    val_idx = int(len(data)*(1-val_frac))\n",
        "    data, val_data = data[:val_idx], data[val_idx:]\n",
        "    \n",
        "    if(train_on_gpu):\n",
        "        net.cuda()\n",
        "    \n",
        "    counter = 0\n",
        "    n_chars = len(net.chars)\n",
        "    for e in range(epochs):\n",
        "        # initialize hidden state\n",
        "        h = net.init_hidden(batch_size)\n",
        "        \n",
        "        for x, y in get_batches(data, batch_size, seq_length):\n",
        "            counter += 1\n",
        "            \n",
        "            # One-hot encode our data and make them Torch tensors\n",
        "            x = one_hot_encode(x, n_chars)\n",
        "            inputs, targets = torch.from_numpy(x), torch.from_numpy(y)\n",
        "            \n",
        "            if(train_on_gpu):\n",
        "                inputs, targets = inputs.cuda(), targets.cuda()\n",
        "\n",
        "            # Creating new variables for the hidden state, otherwise\n",
        "            # we'd backprop through the entire training history\n",
        "            h = tuple([each.data for each in h])\n",
        "\n",
        "            # zero accumulated gradients\n",
        "            net.zero_grad()\n",
        "            \n",
        "            # get the output from the model\n",
        "            output, h = net(inputs, h)\n",
        "            \n",
        "            # calculate the loss and perform backprop\n",
        "            loss = criterion(output, targets.view(batch_size*seq_length).long())\n",
        "            loss.backward()\n",
        "            # `clip_grad_norm` helps prevent the exploding gradient problem in RNNs / LSTMs.\n",
        "            nn.utils.clip_grad_norm_(net.parameters(), clip)\n",
        "            opt.step()\n",
        "            \n",
        "            # loss stats\n",
        "            if counter % print_every == 0:\n",
        "                # Get validation loss\n",
        "                val_h = net.init_hidden(batch_size)\n",
        "                val_losses = []\n",
        "                net.eval()\n",
        "                for x, y in get_batches(val_data, batch_size, seq_length):\n",
        "                    # One-hot encode our data and make them Torch tensors\n",
        "                    x = one_hot_encode(x, n_chars)\n",
        "                    x, y = torch.from_numpy(x), torch.from_numpy(y)\n",
        "                    \n",
        "                    # Creating new variables for the hidden state, otherwise\n",
        "                    # we'd backprop through the entire training history\n",
        "                    val_h = tuple([each.data for each in val_h])\n",
        "                    \n",
        "                    inputs, targets = x, y\n",
        "                    if(train_on_gpu):\n",
        "                        inputs, targets = inputs.cuda(), targets.cuda()\n",
        "\n",
        "                    output, val_h = net(inputs, val_h)\n",
        "                    val_loss = criterion(output, targets.view(batch_size*seq_length).long())\n",
        "                \n",
        "                    val_losses.append(val_loss.item())\n",
        "                \n",
        "                net.train() # reset to train mode after iterationg through validation data\n",
        "                \n",
        "                print(\"Epoch: {}/{}...\".format(e+1, epochs),\n",
        "                      \"Step: {}...\".format(counter),\n",
        "                      \"Loss: {:.4f}...\".format(loss.item()),\n",
        "                      \"Val Loss: {:.4f}\".format(np.mean(val_losses)))"
      ],
      "execution_count": 0,
      "outputs": []
    },
    {
      "cell_type": "markdown",
      "metadata": {
        "id": "1M_kIAZtbX81",
        "colab_type": "text"
      },
      "source": [
        "## Instantiating the model\n",
        "\n",
        "Now we can actually train the network. First we'll create the network itself, with some given hyperparameters. Then, define the mini-batches sizes, and start training!"
      ]
    },
    {
      "cell_type": "code",
      "metadata": {
        "id": "j16J1eYbbX81",
        "colab_type": "code",
        "colab": {
          "base_uri": "https://localhost:8080/",
          "height": 101
        },
        "outputId": "7f80c9fc-a7ec-4625-8157-469c11f5adbf"
      },
      "source": [
        "## TODO: set your model hyperparameters\n",
        "# define and print the net\n",
        "n_hidden=512\n",
        "n_layers=2\n",
        "\n",
        "net = CharRNN(chars, n_hidden, n_layers)\n",
        "print(net)"
      ],
      "execution_count": 46,
      "outputs": [
        {
          "output_type": "stream",
          "text": [
            "CharRNN(\n",
            "  (lstm): LSTM(83, 512, num_layers=2, batch_first=True, dropout=0.5)\n",
            "  (dropout): Dropout(p=0.5, inplace=False)\n",
            "  (fc): Linear(in_features=512, out_features=83, bias=True)\n",
            ")\n"
          ],
          "name": "stdout"
        }
      ]
    },
    {
      "cell_type": "markdown",
      "metadata": {
        "id": "H9YDg0WmbX84",
        "colab_type": "text"
      },
      "source": [
        "### Set your training hyperparameters!"
      ]
    },
    {
      "cell_type": "code",
      "metadata": {
        "scrolled": true,
        "id": "JmPGoehKbX85",
        "colab_type": "code",
        "colab": {
          "base_uri": "https://localhost:8080/",
          "height": 1000
        },
        "outputId": "f54f523c-3dc3-4be4-f09d-11918890c48a"
      },
      "source": [
        "batch_size = 128\n",
        "seq_length = 100\n",
        "n_epochs = 20 # start small if you are just testing initial behavior\n",
        "\n",
        "# train the model\n",
        "train(net, encoded, epochs=n_epochs, batch_size=batch_size, seq_length=seq_length, lr=0.001, print_every=10)"
      ],
      "execution_count": 47,
      "outputs": [
        {
          "output_type": "stream",
          "text": [
            "Epoch: 1/20... Step: 10... Loss: 3.2601... Val Loss: 3.2256\n",
            "Epoch: 1/20... Step: 20... Loss: 3.1405... Val Loss: 3.1367\n",
            "Epoch: 1/20... Step: 30... Loss: 3.1386... Val Loss: 3.1234\n",
            "Epoch: 1/20... Step: 40... Loss: 3.1138... Val Loss: 3.1179\n",
            "Epoch: 1/20... Step: 50... Loss: 3.1456... Val Loss: 3.1160\n",
            "Epoch: 1/20... Step: 60... Loss: 3.1169... Val Loss: 3.1140\n",
            "Epoch: 1/20... Step: 70... Loss: 3.1031... Val Loss: 3.1101\n",
            "Epoch: 1/20... Step: 80... Loss: 3.1124... Val Loss: 3.1009\n",
            "Epoch: 1/20... Step: 90... Loss: 3.1344... Val Loss: 3.0984\n",
            "Epoch: 1/20... Step: 100... Loss: 3.0943... Val Loss: 3.0855\n",
            "Epoch: 1/20... Step: 110... Loss: 3.0713... Val Loss: 3.0479\n",
            "Epoch: 1/20... Step: 120... Loss: 2.9800... Val Loss: 2.9670\n",
            "Epoch: 1/20... Step: 130... Loss: 2.8781... Val Loss: 2.8344\n",
            "Epoch: 2/20... Step: 140... Loss: 2.7808... Val Loss: 2.7279\n",
            "Epoch: 2/20... Step: 150... Loss: 2.6850... Val Loss: 2.6401\n",
            "Epoch: 2/20... Step: 160... Loss: 2.5896... Val Loss: 2.5597\n",
            "Epoch: 2/20... Step: 170... Loss: 2.5163... Val Loss: 2.5070\n",
            "Epoch: 2/20... Step: 180... Loss: 2.4874... Val Loss: 2.4616\n",
            "Epoch: 2/20... Step: 190... Loss: 2.4349... Val Loss: 2.4292\n",
            "Epoch: 2/20... Step: 200... Loss: 2.4427... Val Loss: 2.4054\n",
            "Epoch: 2/20... Step: 210... Loss: 2.3945... Val Loss: 2.3728\n",
            "Epoch: 2/20... Step: 220... Loss: 2.3578... Val Loss: 2.3428\n",
            "Epoch: 2/20... Step: 230... Loss: 2.3364... Val Loss: 2.3142\n",
            "Epoch: 2/20... Step: 240... Loss: 2.3191... Val Loss: 2.2879\n",
            "Epoch: 2/20... Step: 250... Loss: 2.2634... Val Loss: 2.2634\n",
            "Epoch: 2/20... Step: 260... Loss: 2.2244... Val Loss: 2.2307\n",
            "Epoch: 2/20... Step: 270... Loss: 2.2229... Val Loss: 2.2036\n",
            "Epoch: 3/20... Step: 280... Loss: 2.2279... Val Loss: 2.1840\n",
            "Epoch: 3/20... Step: 290... Loss: 2.1883... Val Loss: 2.1558\n",
            "Epoch: 3/20... Step: 300... Loss: 2.1586... Val Loss: 2.1321\n",
            "Epoch: 3/20... Step: 310... Loss: 2.1389... Val Loss: 2.1116\n",
            "Epoch: 3/20... Step: 320... Loss: 2.1082... Val Loss: 2.0962\n",
            "Epoch: 3/20... Step: 330... Loss: 2.0798... Val Loss: 2.0774\n",
            "Epoch: 3/20... Step: 340... Loss: 2.0941... Val Loss: 2.0531\n",
            "Epoch: 3/20... Step: 350... Loss: 2.0756... Val Loss: 2.0333\n",
            "Epoch: 3/20... Step: 360... Loss: 2.0027... Val Loss: 2.0202\n",
            "Epoch: 3/20... Step: 370... Loss: 2.0433... Val Loss: 2.0017\n",
            "Epoch: 3/20... Step: 380... Loss: 2.0065... Val Loss: 1.9862\n",
            "Epoch: 3/20... Step: 390... Loss: 1.9797... Val Loss: 1.9684\n",
            "Epoch: 3/20... Step: 400... Loss: 1.9570... Val Loss: 1.9516\n",
            "Epoch: 3/20... Step: 410... Loss: 1.9693... Val Loss: 1.9395\n",
            "Epoch: 4/20... Step: 420... Loss: 1.9618... Val Loss: 1.9264\n",
            "Epoch: 4/20... Step: 430... Loss: 1.9448... Val Loss: 1.9100\n",
            "Epoch: 4/20... Step: 440... Loss: 1.9239... Val Loss: 1.9014\n",
            "Epoch: 4/20... Step: 450... Loss: 1.8750... Val Loss: 1.8807\n",
            "Epoch: 4/20... Step: 460... Loss: 1.8589... Val Loss: 1.8746\n",
            "Epoch: 4/20... Step: 470... Loss: 1.8933... Val Loss: 1.8611\n",
            "Epoch: 4/20... Step: 480... Loss: 1.8774... Val Loss: 1.8481\n",
            "Epoch: 4/20... Step: 490... Loss: 1.8725... Val Loss: 1.8355\n",
            "Epoch: 4/20... Step: 500... Loss: 1.8686... Val Loss: 1.8283\n",
            "Epoch: 4/20... Step: 510... Loss: 1.8463... Val Loss: 1.8202\n",
            "Epoch: 4/20... Step: 520... Loss: 1.8654... Val Loss: 1.8058\n",
            "Epoch: 4/20... Step: 530... Loss: 1.8130... Val Loss: 1.7985\n",
            "Epoch: 4/20... Step: 540... Loss: 1.7892... Val Loss: 1.7888\n",
            "Epoch: 4/20... Step: 550... Loss: 1.8250... Val Loss: 1.7749\n",
            "Epoch: 5/20... Step: 560... Loss: 1.7986... Val Loss: 1.7660\n",
            "Epoch: 5/20... Step: 570... Loss: 1.7783... Val Loss: 1.7566\n",
            "Epoch: 5/20... Step: 580... Loss: 1.7639... Val Loss: 1.7491\n",
            "Epoch: 5/20... Step: 590... Loss: 1.7613... Val Loss: 1.7373\n",
            "Epoch: 5/20... Step: 600... Loss: 1.7479... Val Loss: 1.7335\n",
            "Epoch: 5/20... Step: 610... Loss: 1.7336... Val Loss: 1.7282\n",
            "Epoch: 5/20... Step: 620... Loss: 1.7343... Val Loss: 1.7202\n",
            "Epoch: 5/20... Step: 630... Loss: 1.7499... Val Loss: 1.7116\n",
            "Epoch: 5/20... Step: 640... Loss: 1.7233... Val Loss: 1.7063\n",
            "Epoch: 5/20... Step: 650... Loss: 1.7092... Val Loss: 1.6989\n",
            "Epoch: 5/20... Step: 660... Loss: 1.6800... Val Loss: 1.6926\n",
            "Epoch: 5/20... Step: 670... Loss: 1.7133... Val Loss: 1.6875\n",
            "Epoch: 5/20... Step: 680... Loss: 1.7139... Val Loss: 1.6781\n",
            "Epoch: 5/20... Step: 690... Loss: 1.6869... Val Loss: 1.6716\n",
            "Epoch: 6/20... Step: 700... Loss: 1.6799... Val Loss: 1.6644\n",
            "Epoch: 6/20... Step: 710... Loss: 1.6824... Val Loss: 1.6590\n",
            "Epoch: 6/20... Step: 720... Loss: 1.6610... Val Loss: 1.6486\n",
            "Epoch: 6/20... Step: 730... Loss: 1.6729... Val Loss: 1.6456\n",
            "Epoch: 6/20... Step: 740... Loss: 1.6411... Val Loss: 1.6404\n",
            "Epoch: 6/20... Step: 750... Loss: 1.6241... Val Loss: 1.6364\n",
            "Epoch: 6/20... Step: 760... Loss: 1.6547... Val Loss: 1.6297\n",
            "Epoch: 6/20... Step: 770... Loss: 1.6445... Val Loss: 1.6279\n",
            "Epoch: 6/20... Step: 780... Loss: 1.6268... Val Loss: 1.6206\n",
            "Epoch: 6/20... Step: 790... Loss: 1.6192... Val Loss: 1.6128\n",
            "Epoch: 6/20... Step: 800... Loss: 1.6339... Val Loss: 1.6108\n",
            "Epoch: 6/20... Step: 810... Loss: 1.6235... Val Loss: 1.6089\n",
            "Epoch: 6/20... Step: 820... Loss: 1.5813... Val Loss: 1.5997\n",
            "Epoch: 6/20... Step: 830... Loss: 1.6317... Val Loss: 1.5985\n",
            "Epoch: 7/20... Step: 840... Loss: 1.5798... Val Loss: 1.5889\n",
            "Epoch: 7/20... Step: 850... Loss: 1.6073... Val Loss: 1.5892\n",
            "Epoch: 7/20... Step: 860... Loss: 1.5863... Val Loss: 1.5798\n",
            "Epoch: 7/20... Step: 870... Loss: 1.5950... Val Loss: 1.5770\n",
            "Epoch: 7/20... Step: 880... Loss: 1.5988... Val Loss: 1.5705\n",
            "Epoch: 7/20... Step: 890... Loss: 1.5878... Val Loss: 1.5709\n",
            "Epoch: 7/20... Step: 900... Loss: 1.5749... Val Loss: 1.5627\n",
            "Epoch: 7/20... Step: 910... Loss: 1.5494... Val Loss: 1.5620\n",
            "Epoch: 7/20... Step: 920... Loss: 1.5635... Val Loss: 1.5592\n",
            "Epoch: 7/20... Step: 930... Loss: 1.5603... Val Loss: 1.5540\n",
            "Epoch: 7/20... Step: 940... Loss: 1.5607... Val Loss: 1.5492\n",
            "Epoch: 7/20... Step: 950... Loss: 1.5640... Val Loss: 1.5437\n",
            "Epoch: 7/20... Step: 960... Loss: 1.5680... Val Loss: 1.5407\n",
            "Epoch: 7/20... Step: 970... Loss: 1.5674... Val Loss: 1.5421\n",
            "Epoch: 8/20... Step: 980... Loss: 1.5525... Val Loss: 1.5358\n",
            "Epoch: 8/20... Step: 990... Loss: 1.5435... Val Loss: 1.5323\n",
            "Epoch: 8/20... Step: 1000... Loss: 1.5394... Val Loss: 1.5285\n",
            "Epoch: 8/20... Step: 1010... Loss: 1.5681... Val Loss: 1.5263\n",
            "Epoch: 8/20... Step: 1020... Loss: 1.5364... Val Loss: 1.5196\n",
            "Epoch: 8/20... Step: 1030... Loss: 1.5169... Val Loss: 1.5194\n",
            "Epoch: 8/20... Step: 1040... Loss: 1.5353... Val Loss: 1.5176\n",
            "Epoch: 8/20... Step: 1050... Loss: 1.5214... Val Loss: 1.5177\n",
            "Epoch: 8/20... Step: 1060... Loss: 1.5144... Val Loss: 1.5146\n",
            "Epoch: 8/20... Step: 1070... Loss: 1.5172... Val Loss: 1.5081\n",
            "Epoch: 8/20... Step: 1080... Loss: 1.5109... Val Loss: 1.5030\n",
            "Epoch: 8/20... Step: 1090... Loss: 1.4884... Val Loss: 1.5013\n",
            "Epoch: 8/20... Step: 1100... Loss: 1.4983... Val Loss: 1.4950\n",
            "Epoch: 8/20... Step: 1110... Loss: 1.5110... Val Loss: 1.4942\n",
            "Epoch: 9/20... Step: 1120... Loss: 1.5236... Val Loss: 1.4926\n",
            "Epoch: 9/20... Step: 1130... Loss: 1.5028... Val Loss: 1.4913\n",
            "Epoch: 9/20... Step: 1140... Loss: 1.5072... Val Loss: 1.4889\n",
            "Epoch: 9/20... Step: 1150... Loss: 1.5152... Val Loss: 1.4891\n",
            "Epoch: 9/20... Step: 1160... Loss: 1.4698... Val Loss: 1.4785\n",
            "Epoch: 9/20... Step: 1170... Loss: 1.4834... Val Loss: 1.4786\n",
            "Epoch: 9/20... Step: 1180... Loss: 1.4694... Val Loss: 1.4801\n",
            "Epoch: 9/20... Step: 1190... Loss: 1.5049... Val Loss: 1.4758\n",
            "Epoch: 9/20... Step: 1200... Loss: 1.4625... Val Loss: 1.4723\n",
            "Epoch: 9/20... Step: 1210... Loss: 1.4679... Val Loss: 1.4697\n",
            "Epoch: 9/20... Step: 1220... Loss: 1.4579... Val Loss: 1.4649\n",
            "Epoch: 9/20... Step: 1230... Loss: 1.4491... Val Loss: 1.4647\n",
            "Epoch: 9/20... Step: 1240... Loss: 1.4524... Val Loss: 1.4598\n",
            "Epoch: 9/20... Step: 1250... Loss: 1.4517... Val Loss: 1.4584\n",
            "Epoch: 10/20... Step: 1260... Loss: 1.4669... Val Loss: 1.4539\n",
            "Epoch: 10/20... Step: 1270... Loss: 1.4555... Val Loss: 1.4513\n",
            "Epoch: 10/20... Step: 1280... Loss: 1.4695... Val Loss: 1.4485\n",
            "Epoch: 10/20... Step: 1290... Loss: 1.4523... Val Loss: 1.4496\n",
            "Epoch: 10/20... Step: 1300... Loss: 1.4435... Val Loss: 1.4446\n",
            "Epoch: 10/20... Step: 1310... Loss: 1.4597... Val Loss: 1.4439\n",
            "Epoch: 10/20... Step: 1320... Loss: 1.4234... Val Loss: 1.4455\n",
            "Epoch: 10/20... Step: 1330... Loss: 1.4446... Val Loss: 1.4434\n",
            "Epoch: 10/20... Step: 1340... Loss: 1.4291... Val Loss: 1.4401\n",
            "Epoch: 10/20... Step: 1350... Loss: 1.4124... Val Loss: 1.4364\n",
            "Epoch: 10/20... Step: 1360... Loss: 1.4169... Val Loss: 1.4377\n",
            "Epoch: 10/20... Step: 1370... Loss: 1.4009... Val Loss: 1.4332\n",
            "Epoch: 10/20... Step: 1380... Loss: 1.4526... Val Loss: 1.4289\n",
            "Epoch: 10/20... Step: 1390... Loss: 1.4538... Val Loss: 1.4313\n",
            "Epoch: 11/20... Step: 1400... Loss: 1.4552... Val Loss: 1.4250\n",
            "Epoch: 11/20... Step: 1410... Loss: 1.4695... Val Loss: 1.4255\n",
            "Epoch: 11/20... Step: 1420... Loss: 1.4527... Val Loss: 1.4207\n",
            "Epoch: 11/20... Step: 1430... Loss: 1.4202... Val Loss: 1.4233\n",
            "Epoch: 11/20... Step: 1440... Loss: 1.4465... Val Loss: 1.4177\n",
            "Epoch: 11/20... Step: 1450... Loss: 1.3722... Val Loss: 1.4168\n",
            "Epoch: 11/20... Step: 1460... Loss: 1.3985... Val Loss: 1.4174\n",
            "Epoch: 11/20... Step: 1470... Loss: 1.3888... Val Loss: 1.4181\n",
            "Epoch: 11/20... Step: 1480... Loss: 1.3980... Val Loss: 1.4136\n",
            "Epoch: 11/20... Step: 1490... Loss: 1.4022... Val Loss: 1.4136\n",
            "Epoch: 11/20... Step: 1500... Loss: 1.3863... Val Loss: 1.4125\n",
            "Epoch: 11/20... Step: 1510... Loss: 1.3696... Val Loss: 1.4104\n",
            "Epoch: 11/20... Step: 1520... Loss: 1.4079... Val Loss: 1.4039\n",
            "Epoch: 12/20... Step: 1530... Loss: 1.4631... Val Loss: 1.4070\n",
            "Epoch: 12/20... Step: 1540... Loss: 1.4119... Val Loss: 1.4000\n",
            "Epoch: 12/20... Step: 1550... Loss: 1.4195... Val Loss: 1.3995\n",
            "Epoch: 12/20... Step: 1560... Loss: 1.4258... Val Loss: 1.3974\n",
            "Epoch: 12/20... Step: 1570... Loss: 1.3725... Val Loss: 1.4001\n",
            "Epoch: 12/20... Step: 1580... Loss: 1.3560... Val Loss: 1.4006\n",
            "Epoch: 12/20... Step: 1590... Loss: 1.3482... Val Loss: 1.3922\n",
            "Epoch: 12/20... Step: 1600... Loss: 1.3727... Val Loss: 1.3956\n",
            "Epoch: 12/20... Step: 1610... Loss: 1.3709... Val Loss: 1.3923\n",
            "Epoch: 12/20... Step: 1620... Loss: 1.3659... Val Loss: 1.3923\n",
            "Epoch: 12/20... Step: 1630... Loss: 1.3970... Val Loss: 1.3893\n",
            "Epoch: 12/20... Step: 1640... Loss: 1.3755... Val Loss: 1.3890\n",
            "Epoch: 12/20... Step: 1650... Loss: 1.3465... Val Loss: 1.3921\n",
            "Epoch: 12/20... Step: 1660... Loss: 1.3972... Val Loss: 1.3834\n",
            "Epoch: 13/20... Step: 1670... Loss: 1.3734... Val Loss: 1.3881\n",
            "Epoch: 13/20... Step: 1680... Loss: 1.3755... Val Loss: 1.3818\n",
            "Epoch: 13/20... Step: 1690... Loss: 1.3592... Val Loss: 1.3812\n",
            "Epoch: 13/20... Step: 1700... Loss: 1.3615... Val Loss: 1.3803\n",
            "Epoch: 13/20... Step: 1710... Loss: 1.3354... Val Loss: 1.3825\n",
            "Epoch: 13/20... Step: 1720... Loss: 1.3489... Val Loss: 1.3803\n",
            "Epoch: 13/20... Step: 1730... Loss: 1.3780... Val Loss: 1.3742\n",
            "Epoch: 13/20... Step: 1740... Loss: 1.3608... Val Loss: 1.3782\n",
            "Epoch: 13/20... Step: 1750... Loss: 1.3210... Val Loss: 1.3756\n",
            "Epoch: 13/20... Step: 1760... Loss: 1.3494... Val Loss: 1.3757\n",
            "Epoch: 13/20... Step: 1770... Loss: 1.3717... Val Loss: 1.3725\n",
            "Epoch: 13/20... Step: 1780... Loss: 1.3367... Val Loss: 1.3714\n",
            "Epoch: 13/20... Step: 1790... Loss: 1.3279... Val Loss: 1.3741\n",
            "Epoch: 13/20... Step: 1800... Loss: 1.3553... Val Loss: 1.3683\n",
            "Epoch: 14/20... Step: 1810... Loss: 1.3522... Val Loss: 1.3751\n",
            "Epoch: 14/20... Step: 1820... Loss: 1.3437... Val Loss: 1.3700\n",
            "Epoch: 14/20... Step: 1830... Loss: 1.3638... Val Loss: 1.3640\n",
            "Epoch: 14/20... Step: 1840... Loss: 1.3076... Val Loss: 1.3643\n",
            "Epoch: 14/20... Step: 1850... Loss: 1.2987... Val Loss: 1.3637\n",
            "Epoch: 14/20... Step: 1860... Loss: 1.3567... Val Loss: 1.3652\n",
            "Epoch: 14/20... Step: 1870... Loss: 1.3551... Val Loss: 1.3593\n",
            "Epoch: 14/20... Step: 1880... Loss: 1.3410... Val Loss: 1.3658\n",
            "Epoch: 14/20... Step: 1890... Loss: 1.3587... Val Loss: 1.3598\n",
            "Epoch: 14/20... Step: 1900... Loss: 1.3354... Val Loss: 1.3580\n",
            "Epoch: 14/20... Step: 1910... Loss: 1.3344... Val Loss: 1.3594\n",
            "Epoch: 14/20... Step: 1920... Loss: 1.3337... Val Loss: 1.3616\n",
            "Epoch: 14/20... Step: 1930... Loss: 1.2970... Val Loss: 1.3607\n",
            "Epoch: 14/20... Step: 1940... Loss: 1.3541... Val Loss: 1.3578\n",
            "Epoch: 15/20... Step: 1950... Loss: 1.3245... Val Loss: 1.3563\n",
            "Epoch: 15/20... Step: 1960... Loss: 1.3237... Val Loss: 1.3544\n",
            "Epoch: 15/20... Step: 1970... Loss: 1.3187... Val Loss: 1.3521\n",
            "Epoch: 15/20... Step: 1980... Loss: 1.3076... Val Loss: 1.3578\n",
            "Epoch: 15/20... Step: 1990... Loss: 1.3153... Val Loss: 1.3537\n",
            "Epoch: 15/20... Step: 2000... Loss: 1.2994... Val Loss: 1.3501\n",
            "Epoch: 15/20... Step: 2010... Loss: 1.3118... Val Loss: 1.3449\n",
            "Epoch: 15/20... Step: 2020... Loss: 1.3341... Val Loss: 1.3515\n",
            "Epoch: 15/20... Step: 2030... Loss: 1.3020... Val Loss: 1.3480\n",
            "Epoch: 15/20... Step: 2040... Loss: 1.3185... Val Loss: 1.3472\n",
            "Epoch: 15/20... Step: 2050... Loss: 1.3093... Val Loss: 1.3470\n",
            "Epoch: 15/20... Step: 2060... Loss: 1.3103... Val Loss: 1.3468\n",
            "Epoch: 15/20... Step: 2070... Loss: 1.3260... Val Loss: 1.3477\n",
            "Epoch: 15/20... Step: 2080... Loss: 1.3175... Val Loss: 1.3460\n",
            "Epoch: 16/20... Step: 2090... Loss: 1.3234... Val Loss: 1.3430\n",
            "Epoch: 16/20... Step: 2100... Loss: 1.2949... Val Loss: 1.3457\n",
            "Epoch: 16/20... Step: 2110... Loss: 1.2962... Val Loss: 1.3441\n",
            "Epoch: 16/20... Step: 2120... Loss: 1.3068... Val Loss: 1.3433\n",
            "Epoch: 16/20... Step: 2130... Loss: 1.2918... Val Loss: 1.3417\n",
            "Epoch: 16/20... Step: 2140... Loss: 1.2921... Val Loss: 1.3396\n",
            "Epoch: 16/20... Step: 2150... Loss: 1.3199... Val Loss: 1.3379\n",
            "Epoch: 16/20... Step: 2160... Loss: 1.2925... Val Loss: 1.3404\n",
            "Epoch: 16/20... Step: 2170... Loss: 1.2959... Val Loss: 1.3376\n",
            "Epoch: 16/20... Step: 2180... Loss: 1.2946... Val Loss: 1.3394\n",
            "Epoch: 16/20... Step: 2190... Loss: 1.3094... Val Loss: 1.3375\n",
            "Epoch: 16/20... Step: 2200... Loss: 1.2858... Val Loss: 1.3384\n",
            "Epoch: 16/20... Step: 2210... Loss: 1.2558... Val Loss: 1.3355\n",
            "Epoch: 16/20... Step: 2220... Loss: 1.2990... Val Loss: 1.3353\n",
            "Epoch: 17/20... Step: 2230... Loss: 1.2680... Val Loss: 1.3299\n",
            "Epoch: 17/20... Step: 2240... Loss: 1.2942... Val Loss: 1.3350\n",
            "Epoch: 17/20... Step: 2250... Loss: 1.2658... Val Loss: 1.3347\n",
            "Epoch: 17/20... Step: 2260... Loss: 1.2772... Val Loss: 1.3287\n",
            "Epoch: 17/20... Step: 2270... Loss: 1.2857... Val Loss: 1.3305\n",
            "Epoch: 17/20... Step: 2280... Loss: 1.2852... Val Loss: 1.3236\n",
            "Epoch: 17/20... Step: 2290... Loss: 1.2831... Val Loss: 1.3243\n",
            "Epoch: 17/20... Step: 2300... Loss: 1.2562... Val Loss: 1.3294\n",
            "Epoch: 17/20... Step: 2310... Loss: 1.2778... Val Loss: 1.3236\n",
            "Epoch: 17/20... Step: 2320... Loss: 1.2687... Val Loss: 1.3236\n",
            "Epoch: 17/20... Step: 2330... Loss: 1.2648... Val Loss: 1.3223\n",
            "Epoch: 17/20... Step: 2340... Loss: 1.2855... Val Loss: 1.3197\n",
            "Epoch: 17/20... Step: 2350... Loss: 1.2872... Val Loss: 1.3198\n",
            "Epoch: 17/20... Step: 2360... Loss: 1.2948... Val Loss: 1.3219\n",
            "Epoch: 18/20... Step: 2370... Loss: 1.2574... Val Loss: 1.3168\n",
            "Epoch: 18/20... Step: 2380... Loss: 1.2687... Val Loss: 1.3191\n",
            "Epoch: 18/20... Step: 2390... Loss: 1.2627... Val Loss: 1.3199\n",
            "Epoch: 18/20... Step: 2400... Loss: 1.2941... Val Loss: 1.3148\n",
            "Epoch: 18/20... Step: 2410... Loss: 1.2815... Val Loss: 1.3211\n",
            "Epoch: 18/20... Step: 2420... Loss: 1.2676... Val Loss: 1.3184\n",
            "Epoch: 18/20... Step: 2430... Loss: 1.2725... Val Loss: 1.3143\n",
            "Epoch: 18/20... Step: 2440... Loss: 1.2591... Val Loss: 1.3121\n",
            "Epoch: 18/20... Step: 2450... Loss: 1.2455... Val Loss: 1.3089\n",
            "Epoch: 18/20... Step: 2460... Loss: 1.2609... Val Loss: 1.3091\n",
            "Epoch: 18/20... Step: 2470... Loss: 1.2497... Val Loss: 1.3083\n",
            "Epoch: 18/20... Step: 2480... Loss: 1.2533... Val Loss: 1.3098\n",
            "Epoch: 18/20... Step: 2490... Loss: 1.2446... Val Loss: 1.3049\n",
            "Epoch: 18/20... Step: 2500... Loss: 1.2473... Val Loss: 1.3101\n",
            "Epoch: 19/20... Step: 2510... Loss: 1.2528... Val Loss: 1.3053\n",
            "Epoch: 19/20... Step: 2520... Loss: 1.2598... Val Loss: 1.3051\n",
            "Epoch: 19/20... Step: 2530... Loss: 1.2596... Val Loss: 1.3095\n",
            "Epoch: 19/20... Step: 2540... Loss: 1.2809... Val Loss: 1.2985\n",
            "Epoch: 19/20... Step: 2550... Loss: 1.2367... Val Loss: 1.3007\n",
            "Epoch: 19/20... Step: 2560... Loss: 1.2545... Val Loss: 1.2963\n",
            "Epoch: 19/20... Step: 2570... Loss: 1.2361... Val Loss: 1.2971\n",
            "Epoch: 19/20... Step: 2580... Loss: 1.2802... Val Loss: 1.3002\n",
            "Epoch: 19/20... Step: 2590... Loss: 1.2389... Val Loss: 1.2968\n",
            "Epoch: 19/20... Step: 2600... Loss: 1.2313... Val Loss: 1.2987\n",
            "Epoch: 19/20... Step: 2610... Loss: 1.2348... Val Loss: 1.3012\n",
            "Epoch: 19/20... Step: 2620... Loss: 1.2292... Val Loss: 1.3020\n",
            "Epoch: 19/20... Step: 2630... Loss: 1.2327... Val Loss: 1.2924\n",
            "Epoch: 19/20... Step: 2640... Loss: 1.2470... Val Loss: 1.2916\n",
            "Epoch: 20/20... Step: 2650... Loss: 1.2471... Val Loss: 1.2958\n",
            "Epoch: 20/20... Step: 2670... Loss: 1.2507... Val Loss: 1.2922\n",
            "Epoch: 20/20... Step: 2680... Loss: 1.2428... Val Loss: 1.2894\n",
            "Epoch: 20/20... Step: 2690... Loss: 1.2311... Val Loss: 1.2899\n",
            "Epoch: 20/20... Step: 2700... Loss: 1.2415... Val Loss: 1.2861\n",
            "Epoch: 20/20... Step: 2710... Loss: 1.2057... Val Loss: 1.2882\n",
            "Epoch: 20/20... Step: 2720... Loss: 1.2214... Val Loss: 1.2926\n",
            "Epoch: 20/20... Step: 2730... Loss: 1.2105... Val Loss: 1.2856\n",
            "Epoch: 20/20... Step: 2740... Loss: 1.2082... Val Loss: 1.2909\n",
            "Epoch: 20/20... Step: 2750... Loss: 1.2213... Val Loss: 1.2900\n",
            "Epoch: 20/20... Step: 2760... Loss: 1.2156... Val Loss: 1.2912\n",
            "Epoch: 20/20... Step: 2770... Loss: 1.2443... Val Loss: 1.2883\n",
            "Epoch: 20/20... Step: 2780... Loss: 1.2638... Val Loss: 1.2814\n"
          ],
          "name": "stdout"
        }
      ]
    },
    {
      "cell_type": "markdown",
      "metadata": {
        "id": "qEIHWZo_bX87",
        "colab_type": "text"
      },
      "source": [
        "## Getting the best model\n",
        "\n",
        "To set your hyperparameters to get the best performance, you'll want to watch the training and validation losses. If your training loss is much lower than the validation loss, you're overfitting. Increase regularization (more dropout) or use a smaller network. If the training and validation losses are close, you're underfitting so you can increase the size of the network."
      ]
    },
    {
      "cell_type": "markdown",
      "metadata": {
        "id": "2soTR82bbX88",
        "colab_type": "text"
      },
      "source": [
        "## Hyperparameters\n",
        "\n",
        "Here are the hyperparameters for the network.\n",
        "\n",
        "In defining the model:\n",
        "* `n_hidden` - The number of units in the hidden layers.\n",
        "* `n_layers` - Number of hidden LSTM layers to use.\n",
        "\n",
        "We assume that dropout probability and learning rate will be kept at the default, in this example.\n",
        "\n",
        "And in training:\n",
        "* `batch_size` - Number of sequences running through the network in one pass.\n",
        "* `seq_length` - Number of characters in the sequence the network is trained on. Larger is better typically, the network will learn more long range dependencies. But it takes longer to train. 100 is typically a good number here.\n",
        "* `lr` - Learning rate for training\n",
        "\n",
        "Here's some good advice from Andrej Karpathy on training the network. I'm going to copy it in here for your benefit, but also link to [where it originally came from](https://github.com/karpathy/char-rnn#tips-and-tricks).\n",
        "\n",
        "> ## Tips and Tricks\n",
        "\n",
        ">### Monitoring Validation Loss vs. Training Loss\n",
        ">If you're somewhat new to Machine Learning or Neural Networks it can take a bit of expertise to get good models. The most important quantity to keep track of is the difference between your training loss (printed during training) and the validation loss (printed once in a while when the RNN is run on the validation data (by default every 1000 iterations)). In particular:\n",
        "\n",
        "> - If your training loss is much lower than validation loss then this means the network might be **overfitting**. Solutions to this are to decrease your network size, or to increase dropout. For example you could try dropout of 0.5 and so on.\n",
        "> - If your training/validation loss are about equal then your model is **underfitting**. Increase the size of your model (either number of layers or the raw number of neurons per layer)\n",
        "\n",
        "> ### Approximate number of parameters\n",
        "\n",
        "> The two most important parameters that control the model are `n_hidden` and `n_layers`. I would advise that you always use `n_layers` of either 2/3. The `n_hidden` can be adjusted based on how much data you have. The two important quantities to keep track of here are:\n",
        "\n",
        "> - The number of parameters in your model. This is printed when you start training.\n",
        "> - The size of your dataset. 1MB file is approximately 1 million characters.\n",
        "\n",
        ">These two should be about the same order of magnitude. It's a little tricky to tell. Here are some examples:\n",
        "\n",
        "> - I have a 100MB dataset and I'm using the default parameter settings (which currently print 150K parameters). My data size is significantly larger (100 mil >> 0.15 mil), so I expect to heavily underfit. I am thinking I can comfortably afford to make `n_hidden` larger.\n",
        "> - I have a 10MB dataset and running a 10 million parameter model. I'm slightly nervous and I'm carefully monitoring my validation loss. If it's larger than my training loss then I may want to try to increase dropout a bit and see if that helps the validation loss.\n",
        "\n",
        "> ### Best models strategy\n",
        "\n",
        ">The winning strategy to obtaining very good models (if you have the compute time) is to always err on making the network larger (as large as you're willing to wait for it to compute) and then try different dropout values (between 0,1). Whatever model has the best validation performance (the loss, written in the checkpoint filename, low is good) is the one you should use in the end.\n",
        "\n",
        ">It is very common in deep learning to run many different models with many different hyperparameter settings, and in the end take whatever checkpoint gave the best validation performance.\n",
        "\n",
        ">By the way, the size of your training and validation splits are also parameters. Make sure you have a decent amount of data in your validation set or otherwise the validation performance will be noisy and not very informative."
      ]
    },
    {
      "cell_type": "markdown",
      "metadata": {
        "id": "B8g8ufqBbX89",
        "colab_type": "text"
      },
      "source": [
        "## Checkpoint\n",
        "\n",
        "After training, we'll save the model so we can load it again later if we need too. Here I'm saving the parameters needed to create the same architecture, the hidden layer hyperparameters and the text characters."
      ]
    },
    {
      "cell_type": "code",
      "metadata": {
        "id": "igzGPEdkbX89",
        "colab_type": "code",
        "colab": {}
      },
      "source": [
        "# change the name, for saving multiple files\n",
        "model_name = 'rnn_x_epoch.net'\n",
        "\n",
        "checkpoint = {'n_hidden': net.n_hidden,\n",
        "              'n_layers': net.n_layers,\n",
        "              'state_dict': net.state_dict(),\n",
        "              'tokens': net.chars}\n",
        "\n",
        "with open(model_name, 'wb') as f:\n",
        "    torch.save(checkpoint, f)"
      ],
      "execution_count": 0,
      "outputs": []
    },
    {
      "cell_type": "markdown",
      "metadata": {
        "id": "4NuOILYLbX9A",
        "colab_type": "text"
      },
      "source": [
        "---\n",
        "## Making Predictions\n",
        "\n",
        "Now that the model is trained, we'll want to sample from it and make predictions about next characters! To sample, we pass in a character and have the network predict the next character. Then we take that character, pass it back in, and get another predicted character. Just keep doing this and you'll generate a bunch of text!\n",
        "\n",
        "### A note on the `predict`  function\n",
        "\n",
        "The output of our RNN is from a fully-connected layer and it outputs a **distribution of next-character scores**.\n",
        "\n",
        "> To actually get the next character, we apply a softmax function, which gives us a *probability* distribution that we can then sample to predict the next character.\n",
        "\n",
        "### Top K sampling\n",
        "\n",
        "Our predictions come from a categorical probability distribution over all the possible characters. We can make the sample text and make it more reasonable to handle (with less variables) by only considering some $K$ most probable characters. This will prevent the network from giving us completely absurd characters while allowing it to introduce some noise and randomness into the sampled text. Read more about [topk, here](https://pytorch.org/docs/stable/torch.html#torch.topk).\n"
      ]
    },
    {
      "cell_type": "code",
      "metadata": {
        "id": "_lDM1GAQbX9B",
        "colab_type": "code",
        "colab": {}
      },
      "source": [
        "def predict(net, char, h=None, top_k=None):\n",
        "        ''' Given a character, predict the next character.\n",
        "            Returns the predicted character and the hidden state.\n",
        "        '''\n",
        "        \n",
        "        # tensor inputs\n",
        "        x = np.array([[net.char2int[char]]])\n",
        "        x = one_hot_encode(x, len(net.chars))\n",
        "        inputs = torch.from_numpy(x)\n",
        "        \n",
        "        if(train_on_gpu):\n",
        "            inputs = inputs.cuda()\n",
        "        \n",
        "        # detach hidden state from history\n",
        "        h = tuple([each.data for each in h])\n",
        "        # get the output of the model\n",
        "        out, h = net(inputs, h)\n",
        "\n",
        "        # get the character probabilities\n",
        "        p = F.softmax(out, dim=1).data\n",
        "        if(train_on_gpu):\n",
        "            p = p.cpu() # move to cpu\n",
        "        \n",
        "        # get top characters\n",
        "        if top_k is None:\n",
        "            top_ch = np.arange(len(net.chars))\n",
        "        else:\n",
        "            p, top_ch = p.topk(top_k)\n",
        "            top_ch = top_ch.numpy().squeeze()\n",
        "        \n",
        "        # select the likely next character with some element of randomness\n",
        "        p = p.numpy().squeeze()\n",
        "        char = np.random.choice(top_ch, p=p/p.sum())\n",
        "        \n",
        "        # return the encoded value of the predicted char and the hidden state\n",
        "        return net.int2char[char], h"
      ],
      "execution_count": 0,
      "outputs": []
    },
    {
      "cell_type": "markdown",
      "metadata": {
        "id": "J-6s8dQMbX9D",
        "colab_type": "text"
      },
      "source": [
        "### Priming and generating text \n",
        "\n",
        "Typically you'll want to prime the network so you can build up a hidden state. Otherwise the network will start out generating characters at random. In general the first bunch of characters will be a little rough since it hasn't built up a long history of characters to predict from."
      ]
    },
    {
      "cell_type": "code",
      "metadata": {
        "id": "dvB6bhuQbX9E",
        "colab_type": "code",
        "colab": {}
      },
      "source": [
        "def sample(net, size, prime='The', top_k=None):\n",
        "        \n",
        "    if(train_on_gpu):\n",
        "        net.cuda()\n",
        "    else:\n",
        "        net.cpu()\n",
        "    \n",
        "    net.eval() # eval mode\n",
        "    \n",
        "    # First off, run through the prime characters\n",
        "    chars = [ch for ch in prime]\n",
        "    h = net.init_hidden(1)\n",
        "    for ch in prime:\n",
        "        char, h = predict(net, ch, h, top_k=top_k)\n",
        "\n",
        "    chars.append(char)\n",
        "    \n",
        "    # Now pass in the previous character and get a new one\n",
        "    for ii in range(size):\n",
        "        char, h = predict(net, chars[-1], h, top_k=top_k)\n",
        "        chars.append(char)\n",
        "\n",
        "    return ''.join(chars)"
      ],
      "execution_count": 0,
      "outputs": []
    },
    {
      "cell_type": "code",
      "metadata": {
        "id": "gnjgeYMRbX9H",
        "colab_type": "code",
        "colab": {
          "base_uri": "https://localhost:8080/",
          "height": 370
        },
        "outputId": "384688c6-f32a-4c4c-8aa6-5070d633333a"
      },
      "source": [
        "print(sample(net, 1000, prime='Anna', top_k=5))"
      ],
      "execution_count": 51,
      "outputs": [
        {
          "output_type": "stream",
          "text": [
            "Anna, tenders in the children\n",
            "tears the string of her hands, and as soon she would not be something and\n",
            "something as ansolative face in the strengt and hear to should have\n",
            "time. He\n",
            "was torried to speak to them and\n",
            "asking her face all her and winter, to the conversation to\n",
            "their hands in haste, was told anything of all, a least and who was a cold to her\n",
            "from the stray. Still something seemed to the church at the same fastened to her\n",
            "and so walked at him of home for the carriage. Too with a\n",
            "bridly, he walked about his from her, which he had not to cele to the\n",
            "most propision of sensitions of his sertain the timing\n",
            "terrible of the carriage were, took a smile, where the drawing offer sounder\n",
            "that in his feeling had to come at the railward to the province.\n",
            "\n",
            "\"I don't, you know what've been a song, but you know, how serie in a chair\n",
            "that was in all sorts of this to speak of tears....\"\n",
            "\n",
            "\"You know!\" he could discompingene.\n",
            "\n",
            "\"What is not to be?\" he asked the pairs, smeliably crimidy\n",
            "firmly, was not to\n"
          ],
          "name": "stdout"
        }
      ]
    },
    {
      "cell_type": "markdown",
      "metadata": {
        "id": "RiMJrGwgbX9J",
        "colab_type": "text"
      },
      "source": [
        "## Loading a checkpoint"
      ]
    },
    {
      "cell_type": "code",
      "metadata": {
        "id": "rYqaBjpDbX9K",
        "colab_type": "code",
        "colab": {
          "base_uri": "https://localhost:8080/",
          "height": 34
        },
        "outputId": "045c1e60-1d3b-479e-c92d-c07eeaca720d"
      },
      "source": [
        "# Here we have loaded in a model that trained over 20 epochs `rnn_20_epoch.net`\n",
        "with open('rnn_x_epoch.net', 'rb') as f:\n",
        "    checkpoint = torch.load(f)\n",
        "    \n",
        "loaded = CharRNN(checkpoint['tokens'], n_hidden=checkpoint['n_hidden'], n_layers=checkpoint['n_layers'])\n",
        "loaded.load_state_dict(checkpoint['state_dict'])"
      ],
      "execution_count": 52,
      "outputs": [
        {
          "output_type": "execute_result",
          "data": {
            "text/plain": [
              "<All keys matched successfully>"
            ]
          },
          "metadata": {
            "tags": []
          },
          "execution_count": 52
        }
      ]
    },
    {
      "cell_type": "code",
      "metadata": {
        "id": "zXaGDq9gbX9N",
        "colab_type": "code",
        "colab": {
          "base_uri": "https://localhost:8080/",
          "height": 739
        },
        "outputId": "8e2d78a6-fda2-4e5e-c29a-b4e0fcb1d42d"
      },
      "source": [
        "# Sample using a loaded model\n",
        "print(sample(loaded, 2000, top_k=5, prime=\"And Levin said\"))"
      ],
      "execution_count": 53,
      "outputs": [
        {
          "output_type": "stream",
          "text": [
            "And Levin said to them to her at,\n",
            "a lover.\n",
            "\n",
            "\"I with matters. Wait a condition of the complecious carriage to the\n",
            "world? A states of start, that I had not missed the sound of singer for his brother, and\n",
            "wife I have come for that in the sight of always a left memory, and wound have\n",
            "sont of some moment, that you wouldn't believe it,\" said Levin, should see\n",
            "her.\n",
            "\n",
            "\"Why did I to go out?\" she said to himself. \"What an ireg? I wanted to give the statess, with\n",
            "here--he's to see you hurry than yourself to think, but it's stood\n",
            "to her. And how is all the time that there will not be too so much, if\n",
            "you\n",
            "were to say what's so found, I can be a good to be a chair.\n",
            "\n",
            "\"Will you took tho getting mind and the children.\"\n",
            "\n",
            "\"Why do I shall think things, taken a langure with the study!\"\n",
            "\n",
            "He felt that there was simply a subject. She had been done that his hands,\n",
            "truting out of the peasants were asked the moments. He came to him sinking; and he heard\n",
            "his sense of something and their sense, he should ston up to the party.\n",
            "\n",
            "He caught strange for a sigh of seemed at the doctor, was a son were brought and straight\n",
            "taking him of his sister--her little carriage, with a man who had been still\n",
            "thought on him the memory, and the sick of these coming with which all\n",
            "was she had not come about it, and taking that hands was so assuring a child.\n",
            "\n",
            "\"You want a clearer of my fashion to her and son.\"\n",
            "\n",
            "\"Well, I am attime to his fate.\"\n",
            "\n",
            "\"What was you don't still, I don't take it in his support and there was a\n",
            "man one of the sunse of some, as he's all that I don't know that the\n",
            "doctor's barries,\" said Levin, and had been as to an old calm time\n",
            "to be as asteming with something and still simply, still more shame to be\n",
            "fancied that he was staring to the promise. He had the doctor was\n",
            "compored in his heart that she could not be. He had not can be the\n",
            "corner over, and and had a glowing signiful of the servants, which had brightened\n",
            "telling him to a long while.\n",
            "\n",
            "\"And you denerd that I am to take happy. It's a long as that sick of\n",
            "th\n"
          ],
          "name": "stdout"
        }
      ]
    },
    {
      "cell_type": "code",
      "metadata": {
        "id": "_5aovjbCbX9R",
        "colab_type": "code",
        "colab": {}
      },
      "source": [
        ""
      ],
      "execution_count": 0,
      "outputs": []
    }
  ]
}