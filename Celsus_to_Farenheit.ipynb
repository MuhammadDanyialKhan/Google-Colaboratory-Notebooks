{
  "nbformat": 4,
  "nbformat_minor": 0,
  "metadata": {
    "colab": {
      "name": "Celsus_to_Farenheit.ipynb",
      "version": "0.3.2",
      "provenance": [],
      "include_colab_link": true
    },
    "kernelspec": {
      "name": "python3",
      "display_name": "Python 3"
    },
    "accelerator": "GPU"
  },
  "cells": [
    {
      "cell_type": "markdown",
      "metadata": {
        "id": "view-in-github",
        "colab_type": "text"
      },
      "source": [
        "<a href=\"https://colab.research.google.com/github/MuhammadDanyialKhan/Google-Colaboratory-Notebooks/blob/master/Celsus_to_Farenheit.ipynb\" target=\"_parent\"><img src=\"https://colab.research.google.com/assets/colab-badge.svg\" alt=\"Open In Colab\"/></a>"
      ]
    },
    {
      "cell_type": "markdown",
      "metadata": {
        "id": "UPh2sTwS0Ane",
        "colab_type": "text"
      },
      "source": [
        "# Celsius to Farenheit Conversion using machine learning techinque"
      ]
    },
    {
      "cell_type": "markdown",
      "metadata": {
        "id": "glqjqk4B1MeP",
        "colab_type": "text"
      },
      "source": [
        "## Import Dependenciew"
      ]
    },
    {
      "cell_type": "code",
      "metadata": {
        "id": "3ILvoL2WzRtE",
        "colab_type": "code",
        "colab": {}
      },
      "source": [
        "from __future__ import absolute_import, division, print_function, unicode_literals"
      ],
      "execution_count": 0,
      "outputs": []
    },
    {
      "cell_type": "code",
      "metadata": {
        "id": "KWlLgWX-zyeM",
        "colab_type": "code",
        "colab": {}
      },
      "source": [
        "import tensorflow as tf\n",
        "\n",
        "import numpy as np\n"
      ],
      "execution_count": 0,
      "outputs": []
    },
    {
      "cell_type": "code",
      "metadata": {
        "id": "Z8rU-T7e0kBb",
        "colab_type": "code",
        "colab": {}
      },
      "source": [
        "import logging\n",
        "\n",
        "logger = tf.get_logger()\n",
        "logger.setLevel(logging.ERROR)\n"
      ],
      "execution_count": 0,
      "outputs": []
    },
    {
      "cell_type": "markdown",
      "metadata": {
        "id": "y-v9PYNE1TTM",
        "colab_type": "text"
      },
      "source": [
        "## Setup Training Data"
      ]
    },
    {
      "cell_type": "code",
      "metadata": {
        "id": "Fy7PjJt41ImF",
        "colab_type": "code",
        "colab": {
          "base_uri": "https://localhost:8080/",
          "height": 139
        },
        "outputId": "20ddb841-2761-42b0-8c4a-0204e155e2c5"
      },
      "source": [
        "Celsius_q = np.array([-40, -10,  0,  8, 15, 22,  38], dtype=float)\n",
        "farenhiet_a = np.array([-40,  14, 32, 46, 59, 72, 100], dtype=float)\n",
        "\n",
        "for i,c in enumerate(Celsius_q):\n",
        "  print(\"{} degrees Celsius = {} degrees Fahrenheit\".format(c,farenhiet_a[i]))"
      ],
      "execution_count": 5,
      "outputs": [
        {
          "output_type": "stream",
          "text": [
            "-40.0 degrees Celsius = -40.0 degrees Fahrenheit\n",
            "-10.0 degrees Celsius = 14.0 degrees Fahrenheit\n",
            "0.0 degrees Celsius = 32.0 degrees Fahrenheit\n",
            "8.0 degrees Celsius = 46.0 degrees Fahrenheit\n",
            "15.0 degrees Celsius = 59.0 degrees Fahrenheit\n",
            "22.0 degrees Celsius = 72.0 degrees Fahrenheit\n",
            "38.0 degrees Celsius = 100.0 degrees Fahrenheit\n"
          ],
          "name": "stdout"
        }
      ]
    },
    {
      "cell_type": "markdown",
      "metadata": {
        "id": "66AG-Rtm2_fj",
        "colab_type": "text"
      },
      "source": [
        "## Create a model using tf.keras.layers.Dense"
      ]
    },
    {
      "cell_type": "code",
      "metadata": {
        "id": "NFcM432T2Zfv",
        "colab_type": "code",
        "colab": {}
      },
      "source": [
        "l0 = tf.keras.layers.Dense(units=1, input_shape=[1])"
      ],
      "execution_count": 0,
      "outputs": []
    },
    {
      "cell_type": "markdown",
      "metadata": {
        "id": "kp_FMf80358E",
        "colab_type": "text"
      },
      "source": [
        "## Assemble Layers into the model"
      ]
    },
    {
      "cell_type": "code",
      "metadata": {
        "id": "Yt266Ww03eDQ",
        "colab_type": "code",
        "colab": {}
      },
      "source": [
        "model = tf.keras.Sequential([l0])"
      ],
      "execution_count": 0,
      "outputs": []
    },
    {
      "cell_type": "markdown",
      "metadata": {
        "id": "7GRIhoXF5q22",
        "colab_type": "text"
      },
      "source": [
        "## Compile the model with loss and optimizer functions"
      ]
    },
    {
      "cell_type": "code",
      "metadata": {
        "id": "726yLkak5qEQ",
        "colab_type": "code",
        "colab": {}
      },
      "source": [
        "model.compile(loss=\"mean_squared_error\",\n",
        "              optimizer=tf.keras.optimizers.Adam(0.1))"
      ],
      "execution_count": 0,
      "outputs": []
    },
    {
      "cell_type": "markdown",
      "metadata": {
        "id": "LC2l2KGD6vFg",
        "colab_type": "text"
      },
      "source": [
        "## Train the model"
      ]
    },
    {
      "cell_type": "code",
      "metadata": {
        "id": "ZHI0gKT24DEc",
        "colab_type": "code",
        "colab": {
          "base_uri": "https://localhost:8080/",
          "height": 34
        },
        "outputId": "a865534a-38b9-4ed4-91a1-a80a1e5b1638"
      },
      "source": [
        "history = model.fit(Celsius_q, farenhiet_a, epochs=500, verbose=False)\n",
        "print(\"Finished training the model\")"
      ],
      "execution_count": 10,
      "outputs": [
        {
          "output_type": "stream",
          "text": [
            "Finished training the model\n"
          ],
          "name": "stdout"
        }
      ]
    },
    {
      "cell_type": "markdown",
      "metadata": {
        "id": "Ux43meLM7ect",
        "colab_type": "text"
      },
      "source": [
        "## Display Training statistics"
      ]
    },
    {
      "cell_type": "code",
      "metadata": {
        "id": "Brj3SQxN7Ykv",
        "colab_type": "code",
        "colab": {
          "base_uri": "https://localhost:8080/",
          "height": 300
        },
        "outputId": "afbface9-8176-47fc-82ae-89b8ac026ae3"
      },
      "source": [
        "import matplotlib.pyplot as plt\n",
        "plt.xlabel(\"Epoch Number\")\n",
        "plt.ylabel(\"loss Magnitude\")\n",
        "plt.plot(history.history['loss'])"
      ],
      "execution_count": 11,
      "outputs": [
        {
          "output_type": "execute_result",
          "data": {
            "text/plain": [
              "[<matplotlib.lines.Line2D at 0x7fe25423ff98>]"
            ]
          },
          "metadata": {
            "tags": []
          },
          "execution_count": 11
        },
        {
          "output_type": "display_data",
          "data": {
            "image/png": "[encoded data removed]",
            "text/plain": [
              "<Figure size 432x288 with 1 Axes>"
            ]
          },
          "metadata": {
            "tags": []
          }
        }
      ]
    },
    {
      "cell_type": "markdown",
      "metadata": {
        "id": "u3_CDKKI8C5R",
        "colab_type": "text"
      },
      "source": [
        "## use the method to predict values"
      ]
    },
    {
      "cell_type": "code",
      "metadata": {
        "id": "1O6TZFR37_Rm",
        "colab_type": "code",
        "colab": {
          "base_uri": "https://localhost:8080/",
          "height": 34
        },
        "outputId": "4b6b3f71-b644-4412-9743-6f27b732ae73"
      },
      "source": [
        "print(model.predict([20.0]))"
      ],
      "execution_count": 18,
      "outputs": [
        {
          "output_type": "stream",
          "text": [
            "[[67.9115]]\n"
          ],
          "name": "stdout"
        }
      ]
    },
    {
      "cell_type": "markdown",
      "metadata": {
        "id": "uymozXHw8T5x",
        "colab_type": "text"
      },
      "source": [
        "## looking at the layer weights"
      ]
    },
    {
      "cell_type": "code",
      "metadata": {
        "id": "YsljANV68O0o",
        "colab_type": "code",
        "colab": {
          "base_uri": "https://localhost:8080/",
          "height": 34
        },
        "outputId": "b50433a6-482a-4f5e-b3ae-3b719b89b8f2"
      },
      "source": [
        "print(\"These are the layer variables: {}\".format(l0.get_weights()))"
      ],
      "execution_count": 13,
      "outputs": [
        {
          "output_type": "stream",
          "text": [
            "These are the layer variables: [array([[1.8223844]], dtype=float32), array([29.086533], dtype=float32)]\n"
          ],
          "name": "stdout"
        }
      ]
    },
    {
      "cell_type": "markdown",
      "metadata": {
        "id": "PW9XN7iZ81qK",
        "colab_type": "text"
      },
      "source": [
        "## A little Experiment"
      ]
    },
    {
      "cell_type": "code",
      "metadata": {
        "id": "EgnZU63m8pFD",
        "colab_type": "code",
        "colab": {
          "base_uri": "https://localhost:8080/",
          "height": 526
        },
        "outputId": "0741720d-d1c5-4deb-f199-b264d99de339"
      },
      "source": [
        "l0 = tf.keras.layers.Dense(units=4, input_shape=[1])\n",
        "l1 = tf.keras.layers.Dense(units=4)\n",
        "l2 = tf.keras.layers.Dense(units=1)\n",
        "\n",
        "model = tf.keras.Sequential([l0, l1, l2])\n",
        "model.compile(loss=\"mean_squared_error\", optimizer=tf.keras.optimizers.Adam(0.01))\n",
        "history = model.fit(Celsius_q, farenhiet_a, epochs=500, verbose=False)\n",
        "print(\"Finished training the model\")\n",
        "\n",
        "plt.xlabel(\"Epoch Number\")\n",
        "plt.ylabel(\"loss Magnitude\")\n",
        "plt.plot(history.history['loss'])\n",
        "\n",
        "print(model.predict([90.0]))\n",
        "print(\"Model predicts that 100 degrees Celsius is: {} degrees Fahrenheit\".format(model.predict([100.0])))\n",
        "print(\"These are the l0 variables: {}\".format(l0.get_weights()))\n",
        "print(\"These are the l1 variables: {}\".format(l1.get_weights()))\n",
        "print(\"These are the l2 variables: {}\".format(l2.get_weights()))"
      ],
      "execution_count": 17,
      "outputs": [
        {
          "output_type": "stream",
          "text": [
            "Finished training the model\n",
            "[[193.76794]]\n",
            "Model predicts that 100 degrees Celsius is: [[211.74744]] degrees Fahrenheit\n",
            "These are the l0 variables: [array([[-0.11691491,  0.03861407, -0.03668695,  0.6166084 ]],\n",
            "      dtype=float32), array([-1.7397335,  2.1274374,  2.4651337,  1.9547931], dtype=float32)]\n",
            "These are the l1 variables: [array([[-0.18948115, -0.15899934,  1.2232947 , -0.19379774],\n",
            "       [-0.28373817,  0.8508823 , -1.4684962 ,  1.3358508 ],\n",
            "       [-1.356739  ,  0.65028834, -0.37769607,  1.327974  ],\n",
            "       [ 0.39379463,  0.6066314 , -1.0562218 ,  1.165836  ]],\n",
            "      dtype=float32), array([-1.439637 ,  0.5755681, -1.7012446,  1.7052717], dtype=float32)]\n",
            "These are the l2 variables: [array([[-0.84751636],\n",
            "       [ 0.18972808],\n",
            "       [-1.1029617 ],\n",
            "       [ 1.4184502 ]], dtype=float32), array([1.5057093], dtype=float32)]\n"
          ],
          "name": "stdout"
        },
        {
          "output_type": "display_data",
          "data": {
            "image/png": "[encoded data removed]",
            "text/plain": [
              "<Figure size 432x288 with 1 Axes>"
            ]
          },
          "metadata": {
            "tags": []
          }
        }
      ]
    },
    {
      "cell_type": "code",
      "metadata": {
        "id": "3Go6rZoC-K-a",
        "colab_type": "code",
        "colab": {}
      },
      "source": [
        ""
      ],
      "execution_count": 0,
      "outputs": []
    }
  ]
}